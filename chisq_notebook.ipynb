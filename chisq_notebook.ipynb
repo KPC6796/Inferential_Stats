{
 "cells": [
  {
   "cell_type": "code",
   "execution_count": 1,
   "source": [
    "import numpy as np\r\n",
    "import pandas as pd\r\n",
    "import scipy.stats as stats"
   ],
   "outputs": [],
   "metadata": {}
  },
  {
   "cell_type": "code",
   "execution_count": 2,
   "source": [
    "national = pd.DataFrame([\"white\"]*100000 + [\"hispanic\"]*60000 +\\\r\n",
    "                        [\"black\"]*50000 + [\"asian\"]*15000 + [\"other\"]*35000)\r\n",
    "           \r\n",
    "\r\n",
    "minnesota = pd.DataFrame([\"white\"]*600 + [\"hispanic\"]*300 + \\\r\n",
    "                         [\"black\"]*250 +[\"asian\"]*75 + [\"other\"]*150)\r\n",
    "\r\n",
    "national_table = pd.crosstab(index=national[0], columns=\"count\")\r\n",
    "minnesota_table = pd.crosstab(index=minnesota[0], columns=\"count\")\r\n",
    "\r\n",
    "print( \"National\")\r\n",
    "print(national_table)\r\n",
    "print(\" \")\r\n",
    "print( \"Minnesota\")\r\n",
    "print(minnesota_table)"
   ],
   "outputs": [
    {
     "output_type": "stream",
     "name": "stdout",
     "text": [
      "National\n",
      "col_0      count\n",
      "0               \n",
      "asian      15000\n",
      "black      50000\n",
      "hispanic   60000\n",
      "other      35000\n",
      "white     100000\n",
      " \n",
      "Minnesota\n",
      "col_0     count\n",
      "0              \n",
      "asian        75\n",
      "black       250\n",
      "hispanic    300\n",
      "other       150\n",
      "white       600\n"
     ]
    }
   ],
   "metadata": {}
  },
  {
   "cell_type": "markdown",
   "source": [
    "Chi-squared tests are based on the so-called chi-squared statistic. You calculate the chi-squared statistic with the following formula:\r\n",
    "\r\n",
    "sum((observed−expected)2 /expected)\r\n",
    " \r\n",
    "In the formula, observed is the actual observed count for each category and expected is the expected count based on the distribution of the population for the corresponding category."
   ],
   "metadata": {}
  },
  {
   "cell_type": "code",
   "execution_count": 3,
   "source": [
    "observed = minnesota_table\r\n",
    "\r\n",
    "national_ratios = national_table/len(national)  # Get population ratios\r\n",
    "\r\n",
    "expected = national_ratios * len(minnesota)   # Get expected counts\r\n",
    "\r\n",
    "chi_squared_stat = (((observed-expected)**2)/expected).sum()\r\n",
    "\r\n",
    "print(chi_squared_stat)"
   ],
   "outputs": [
    {
     "output_type": "stream",
     "name": "stdout",
     "text": [
      "col_0\n",
      "count    18.194805\n",
      "dtype: float64\n"
     ]
    }
   ],
   "metadata": {}
  },
  {
   "cell_type": "markdown",
   "source": [
    "Note: The chi-squared test assumes none of the expected counts are less than 5.\r\n",
    "\r\n",
    "Similar to the t-test where we compared the t-test statistic to a critical value based on the t-distribution to determine whether the result is significant, in the chi-square test we compare the chi-square test statistic to a critical value based on the chi-square distribution. The scipy library shorthand for the chi-square distribution is chi2. Let's use this knowledge to find the critical value for 95% confidence level and check the p-value of our result:"
   ],
   "metadata": {}
  },
  {
   "cell_type": "code",
   "execution_count": 4,
   "source": [
    "crit = stats.chi2.ppf(q = 0.95, # Find the critical value for 95% confidence*\r\n",
    "                      df = 4)   # Df = number of variable categories - 1\r\n",
    "\r\n",
    "print(\"Critical value\")\r\n",
    "print(crit)\r\n",
    "\r\n",
    "p_value = 1 - stats.chi2.cdf(x=chi_squared_stat,  # Find the p-value\r\n",
    "                             df=4)\r\n",
    "print(\"P value\")\r\n",
    "print(p_value)"
   ],
   "outputs": [
    {
     "output_type": "stream",
     "name": "stdout",
     "text": [
      "Critical value\n",
      "9.487729036781154\n",
      "P value\n",
      "[0.00113047]\n"
     ]
    }
   ],
   "metadata": {}
  },
  {
   "cell_type": "markdown",
   "source": [
    "Since our chi-squared statistic exceeds the critical value, we'd reject the null hypothesis that the two distributions are the same."
   ],
   "metadata": {}
  },
  {
   "cell_type": "code",
   "execution_count": 5,
   "source": [
    "# You can carry out a chi-squared goodness-of-fit test automatically using the scipy function scipy.stats.chisquare():\r\n",
    "stats.chisquare(f_obs= observed,   # Array of observed counts\r\n",
    "                f_exp= expected)   # Array of expected counts"
   ],
   "outputs": [
    {
     "output_type": "execute_result",
     "data": {
      "text/plain": [
       "Power_divergenceResult(statistic=array([18.19480519]), pvalue=array([0.00113047]))"
      ]
     },
     "metadata": {},
     "execution_count": 5
    }
   ],
   "metadata": {}
  },
  {
   "cell_type": "markdown",
   "source": [
    "The test results agree with the values we calculated above."
   ],
   "metadata": {}
  },
  {
   "cell_type": "markdown",
   "source": [
    "## Chi-Squared Test of Independence\r\n",
    "\r\n",
    "Independence is a key concept in probability that describes a situation where knowing the value of one variable tells you nothing about the value of another. For instance, the month you were born probably doesn't tell you anything about which web browser you use, so we'd expect birth month and browser preference to be independent. On the other hand, your month of birth might be related to whether you excelled at sports in school, so month of birth and sports performance might not be independent.\r\n",
    "\r\n",
    "The chi-squared test of independence tests whether two categorical variables are independent. The test of independence is commonly used to determine whether variables like education, political views and other preferences vary based on demographic factors like gender, race and religion. Let's generate some fake voter polling data and perform a test of independence:"
   ],
   "metadata": {}
  },
  {
   "cell_type": "code",
   "execution_count": 6,
   "source": [
    "np.random.seed(10)\r\n",
    "\r\n",
    "# Sample data randomly at fixed probabilities\r\n",
    "voter_race = np.random.choice(a= [\"asian\",\"black\",\"hispanic\",\"other\",\"white\"],\r\n",
    "                              p = [0.05, 0.15 ,0.25, 0.05, 0.5],\r\n",
    "                              size=1000)\r\n",
    "\r\n",
    "# Sample data randomly at fixed probabilities\r\n",
    "voter_party = np.random.choice(a= [\"democrat\",\"independent\",\"republican\"],\r\n",
    "                              p = [0.4, 0.2, 0.4],\r\n",
    "                              size=1000)\r\n",
    "\r\n",
    "voters = pd.DataFrame({\"race\":voter_race, \r\n",
    "                       \"party\":voter_party})\r\n",
    "\r\n",
    "voter_tab = pd.crosstab(voters.race, voters.party, margins = True)\r\n",
    "\r\n",
    "voter_tab.columns = [\"democrat\",\"independent\",\"republican\",\"row_totals\"]\r\n",
    "\r\n",
    "voter_tab.index = [\"asian\",\"black\",\"hispanic\",\"other\",\"white\",\"col_totals\"]\r\n",
    "\r\n",
    "observed = voter_tab.iloc[0:5,0:3]   # Get table without totals for later use\r\n",
    "voter_tab"
   ],
   "outputs": [
    {
     "output_type": "execute_result",
     "data": {
      "text/html": [
       "<div>\n",
       "<style scoped>\n",
       "    .dataframe tbody tr th:only-of-type {\n",
       "        vertical-align: middle;\n",
       "    }\n",
       "\n",
       "    .dataframe tbody tr th {\n",
       "        vertical-align: top;\n",
       "    }\n",
       "\n",
       "    .dataframe thead th {\n",
       "        text-align: right;\n",
       "    }\n",
       "</style>\n",
       "<table border=\"1\" class=\"dataframe\">\n",
       "  <thead>\n",
       "    <tr style=\"text-align: right;\">\n",
       "      <th></th>\n",
       "      <th>democrat</th>\n",
       "      <th>independent</th>\n",
       "      <th>republican</th>\n",
       "      <th>row_totals</th>\n",
       "    </tr>\n",
       "  </thead>\n",
       "  <tbody>\n",
       "    <tr>\n",
       "      <th>asian</th>\n",
       "      <td>21</td>\n",
       "      <td>7</td>\n",
       "      <td>32</td>\n",
       "      <td>60</td>\n",
       "    </tr>\n",
       "    <tr>\n",
       "      <th>black</th>\n",
       "      <td>65</td>\n",
       "      <td>25</td>\n",
       "      <td>64</td>\n",
       "      <td>154</td>\n",
       "    </tr>\n",
       "    <tr>\n",
       "      <th>hispanic</th>\n",
       "      <td>107</td>\n",
       "      <td>50</td>\n",
       "      <td>94</td>\n",
       "      <td>251</td>\n",
       "    </tr>\n",
       "    <tr>\n",
       "      <th>other</th>\n",
       "      <td>15</td>\n",
       "      <td>8</td>\n",
       "      <td>15</td>\n",
       "      <td>38</td>\n",
       "    </tr>\n",
       "    <tr>\n",
       "      <th>white</th>\n",
       "      <td>189</td>\n",
       "      <td>96</td>\n",
       "      <td>212</td>\n",
       "      <td>497</td>\n",
       "    </tr>\n",
       "    <tr>\n",
       "      <th>col_totals</th>\n",
       "      <td>397</td>\n",
       "      <td>186</td>\n",
       "      <td>417</td>\n",
       "      <td>1000</td>\n",
       "    </tr>\n",
       "  </tbody>\n",
       "</table>\n",
       "</div>"
      ],
      "text/plain": [
       "            democrat  independent  republican  row_totals\n",
       "asian             21            7          32          60\n",
       "black             65           25          64         154\n",
       "hispanic         107           50          94         251\n",
       "other             15            8          15          38\n",
       "white            189           96         212         497\n",
       "col_totals       397          186         417        1000"
      ]
     },
     "metadata": {},
     "execution_count": 6
    }
   ],
   "metadata": {}
  },
  {
   "cell_type": "markdown",
   "source": [
    "Note that we did not use the race data to inform our generation of the party data so the variables are independent.\r\n",
    "\r\n",
    "For a test of independence, we use the same chi-squared formula that we used for the goodness-of-fit test. The main difference is we have to calculate the expected counts of each cell in a 2-dimensional table instead of a 1-dimensional table. To get the expected count for a cell, multiply the row total for that cell by the column total for that cell and then divide by the total number of observations. We can quickly get the expected counts for all cells in the table by taking the row totals and column totals of the table, performing an outer product on them with the np.outer() function and dividing by the number of observations:"
   ],
   "metadata": {}
  },
  {
   "cell_type": "code",
   "execution_count": 7,
   "source": [
    "expected =  np.outer(voter_tab[\"row_totals\"][0:5],\r\n",
    "                     voter_tab.loc[\"col_totals\"][0:3]) / 1000\r\n",
    "\r\n",
    "expected = pd.DataFrame(expected)\r\n",
    "\r\n",
    "expected.columns = [\"democrat\",\"independent\",\"republican\"]\r\n",
    "expected.index = [\"asian\",\"black\",\"hispanic\",\"other\",\"white\"]\r\n",
    "\r\n",
    "expected"
   ],
   "outputs": [
    {
     "output_type": "execute_result",
     "data": {
      "text/html": [
       "<div>\n",
       "<style scoped>\n",
       "    .dataframe tbody tr th:only-of-type {\n",
       "        vertical-align: middle;\n",
       "    }\n",
       "\n",
       "    .dataframe tbody tr th {\n",
       "        vertical-align: top;\n",
       "    }\n",
       "\n",
       "    .dataframe thead th {\n",
       "        text-align: right;\n",
       "    }\n",
       "</style>\n",
       "<table border=\"1\" class=\"dataframe\">\n",
       "  <thead>\n",
       "    <tr style=\"text-align: right;\">\n",
       "      <th></th>\n",
       "      <th>democrat</th>\n",
       "      <th>independent</th>\n",
       "      <th>republican</th>\n",
       "    </tr>\n",
       "  </thead>\n",
       "  <tbody>\n",
       "    <tr>\n",
       "      <th>asian</th>\n",
       "      <td>23.820</td>\n",
       "      <td>11.160</td>\n",
       "      <td>25.020</td>\n",
       "    </tr>\n",
       "    <tr>\n",
       "      <th>black</th>\n",
       "      <td>61.138</td>\n",
       "      <td>28.644</td>\n",
       "      <td>64.218</td>\n",
       "    </tr>\n",
       "    <tr>\n",
       "      <th>hispanic</th>\n",
       "      <td>99.647</td>\n",
       "      <td>46.686</td>\n",
       "      <td>104.667</td>\n",
       "    </tr>\n",
       "    <tr>\n",
       "      <th>other</th>\n",
       "      <td>15.086</td>\n",
       "      <td>7.068</td>\n",
       "      <td>15.846</td>\n",
       "    </tr>\n",
       "    <tr>\n",
       "      <th>white</th>\n",
       "      <td>197.309</td>\n",
       "      <td>92.442</td>\n",
       "      <td>207.249</td>\n",
       "    </tr>\n",
       "  </tbody>\n",
       "</table>\n",
       "</div>"
      ],
      "text/plain": [
       "          democrat  independent  republican\n",
       "asian       23.820       11.160      25.020\n",
       "black       61.138       28.644      64.218\n",
       "hispanic    99.647       46.686     104.667\n",
       "other       15.086        7.068      15.846\n",
       "white      197.309       92.442     207.249"
      ]
     },
     "metadata": {},
     "execution_count": 7
    }
   ],
   "metadata": {}
  },
  {
   "cell_type": "code",
   "execution_count": 8,
   "source": [
    "chi_squared_stat = (((observed-expected)**2)/expected).sum().sum()\r\n",
    "\r\n",
    "print(chi_squared_stat)"
   ],
   "outputs": [
    {
     "output_type": "stream",
     "name": "stdout",
     "text": [
      "7.169321280162059\n"
     ]
    }
   ],
   "metadata": {}
  },
  {
   "cell_type": "markdown",
   "source": [
    "Note: We call .sum() twice: once to get the column sums and a second time to add the column sums together, returning the sum of the entire 2D table."
   ],
   "metadata": {}
  },
  {
   "cell_type": "code",
   "execution_count": 9,
   "source": [
    "crit = stats.chi2.ppf(q = 0.95, # Find the critical value for 95% confidence*\r\n",
    "                      df = 8)   # *\r\n",
    "\r\n",
    "print(\"Critical value\")\r\n",
    "print(crit)\r\n",
    "\r\n",
    "p_value = 1 - stats.chi2.cdf(x=chi_squared_stat,  # Find the p-value\r\n",
    "                             df=8)\r\n",
    "print(\"P value\")\r\n",
    "print(p_value)"
   ],
   "outputs": [
    {
     "output_type": "stream",
     "name": "stdout",
     "text": [
      "Critical value\n",
      "15.50731305586545\n",
      "P value\n",
      "0.518479392948842\n"
     ]
    }
   ],
   "metadata": {}
  },
  {
   "cell_type": "markdown",
   "source": [
    "Note: The degrees of freedom for a test of independence equals the product of the number of categories in each variable minus 1. In this case we have a 5x3 table so df = 4x2 = 8."
   ],
   "metadata": {}
  },
  {
   "cell_type": "markdown",
   "source": [
    "As with the goodness-of-fit test, we can use scipy to conduct a test of independence quickly. Use stats.chi2_contingency() function to conduct a test of independence automatically given a frequency table of observed counts:"
   ],
   "metadata": {}
  },
  {
   "cell_type": "code",
   "execution_count": 10,
   "source": [
    "stats.chi2_contingency(observed= observed)"
   ],
   "outputs": [
    {
     "output_type": "execute_result",
     "data": {
      "text/plain": [
       "(7.169321280162059,\n",
       " 0.518479392948842,\n",
       " 8,\n",
       " array([[ 23.82 ,  11.16 ,  25.02 ],\n",
       "        [ 61.138,  28.644,  64.218],\n",
       "        [ 99.647,  46.686, 104.667],\n",
       "        [ 15.086,   7.068,  15.846],\n",
       "        [197.309,  92.442, 207.249]]))"
      ]
     },
     "metadata": {},
     "execution_count": 10
    }
   ],
   "metadata": {}
  },
  {
   "cell_type": "markdown",
   "source": [
    "The output shows the chi-square statistic, the p-value and the degrees of freedom followed by the expected counts.\r\n",
    "\r\n",
    "As expected, given the high p-value, the test result does not detect a significant relationship between the variables."
   ],
   "metadata": {}
  },
  {
   "cell_type": "markdown",
   "source": [
    "Chi-squared tests provide a way to investigate differences in the distributions of categorical variables with the same categories and the dependence between categorical variables"
   ],
   "metadata": {}
  }
 ],
 "metadata": {
  "orig_nbformat": 4,
  "language_info": {
   "name": "python",
   "version": "3.9.5",
   "mimetype": "text/x-python",
   "codemirror_mode": {
    "name": "ipython",
    "version": 3
   },
   "pygments_lexer": "ipython3",
   "nbconvert_exporter": "python",
   "file_extension": ".py"
  },
  "kernelspec": {
   "name": "python3",
   "display_name": "Python 3.9.5 64-bit ('kamenv': conda)"
  },
  "interpreter": {
   "hash": "06ef7c72ea0fbf6aadbb96241f80366349443c1d206a5cee1b7aaf947634740b"
  }
 },
 "nbformat": 4,
 "nbformat_minor": 2
}