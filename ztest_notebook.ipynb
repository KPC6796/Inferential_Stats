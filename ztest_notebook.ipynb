{
 "cells": [
  {
   "cell_type": "markdown",
   "source": [
    "## In general\r\n",
    "\r\n",
    "In a z-test, we need to compare two given sample means. The sample follows a Gaussian distribution. A z-test is used when the population parameters like standard deviation are known.\r\n",
    "\r\n",
    "z = (x — μ) / (σ / √n)\r\n",
    "\r\n",
    "x = sample mean\r\n",
    "\r\n",
    "mu = population mean\r\n",
    "\r\n",
    "σ / √n = standard deviation of population (Standard Error)\r\n",
    "\r\n",
    "If the p-value is lower than 0.05, reject the null hypothesis or else accept the null hypothesis.\r\n",
    "\r\n",
    "Null Hypothesis: Population mean is same as the sample mean\r\n",
    "\r\n",
    "Alternate Hypothesis: Population mean is not the same as the sample mean"
   ],
   "metadata": {}
  },
  {
   "cell_type": "markdown",
   "source": [
    "## One-Sample Z test (A one sided z-test will have one critical boundary, while a two sided z-test will have two critical boundaries.)\r\n",
    "\r\n",
    "A one-sample z-test allows for us to see if a particular group of data is actually from a larger population of data. \r\n",
    "\r\n",
    "Situations which warrant a z-test:\r\n",
    "- Sample size greater than 30\r\n",
    "- Independent data points\r\n",
    "- Normally distributed data\r\n",
    "- Randomly selected data\r\n",
    "- Equal sample sizes\r\n",
    "\r\n",
    "Let’s take a mean of 156 for this blood pressure dataset.\r\n",
    "\r\n",
    "Null Hypothesis: There is no difference in the mean\r\n",
    "\r\n",
    "Alternate Hypothesis: Means are different"
   ],
   "metadata": {}
  },
  {
   "cell_type": "code",
   "execution_count": 1,
   "source": [
    "import pandas as pd\r\n",
    "from scipy import stats\r\n",
    "from statsmodels.stats import weightstats as stests\r\n",
    "df = pd.read_csv(\"ztest_data.csv\")\r\n",
    "ztest, pval = stests.ztest(df['bp_before'], x2=None, value=156)\r\n",
    "print(float(pval))\r\n",
    "if pval < 0.05:\r\n",
    "    print(\"reject null hypothesis\")\r\n",
    "else:\r\n",
    "    print(\"accept null hypothesis\")"
   ],
   "outputs": [
    {
     "output_type": "stream",
     "name": "stdout",
     "text": [
      "0.6651614730255063\n",
      "accept null hypothesis\n"
     ]
    }
   ],
   "metadata": {}
  },
  {
   "cell_type": "markdown",
   "source": [
    "## Two Sample Z-test\r\n",
    "\r\n",
    "H0: mean of two samples is the same\r\n",
    "\r\n",
    "H1: mean of two samples is not the same"
   ],
   "metadata": {}
  },
  {
   "cell_type": "code",
   "execution_count": 2,
   "source": [
    "ztest ,pval1 = stests.ztest(df['bp_before'], x2=df['bp_after'], value=0,alternative='two-sided')\r\n",
    "print(float(pval1))\r\n",
    "if pval1 < 0.05:\r\n",
    "    print(\"reject null hypothesis\")\r\n",
    "else:\r\n",
    "    print(\"accept null hypothesis\")"
   ],
   "outputs": [
    {
     "output_type": "stream",
     "name": "stdout",
     "text": [
      "0.002162306611369422\n",
      "reject null hypothesis\n"
     ]
    }
   ],
   "metadata": {}
  }
 ],
 "metadata": {
  "orig_nbformat": 4,
  "language_info": {
   "name": "python",
   "version": "3.9.5",
   "mimetype": "text/x-python",
   "codemirror_mode": {
    "name": "ipython",
    "version": 3
   },
   "pygments_lexer": "ipython3",
   "nbconvert_exporter": "python",
   "file_extension": ".py"
  },
  "kernelspec": {
   "name": "python3",
   "display_name": "Python 3.9.5 64-bit ('kamenv': conda)"
  },
  "interpreter": {
   "hash": "06ef7c72ea0fbf6aadbb96241f80366349443c1d206a5cee1b7aaf947634740b"
  }
 },
 "nbformat": 4,
 "nbformat_minor": 2
}