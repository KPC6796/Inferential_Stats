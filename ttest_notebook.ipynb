{
 "cells": [
  {
   "cell_type": "markdown",
   "source": [
    "The t-test is used to compare the mean of two given groups. The sample follows the Gaussian distribution. A t-test is used when parameters like the standard deviation of the population are not known.\r\n",
    "\r\n",
    "We can calculate the t statistics by the given formula\r\n",
    "\r\n",
    "t = (x1 — x2) / (σ / √n1 + σ / √n2)\r\n",
    "\r\n",
    "x1 = sample 1 mean\r\n",
    "\r\n",
    "x2 = sample 2 mean\r\n",
    "\r\n",
    "n1 = sample 1 size\r\n",
    "\r\n",
    "n2 = sample 2 size\r\n",
    "\r\n",
    "A t-test is used to see if two separate samples have the same mean value. However, T-Tests differ from z-tests because we use them when the mean and standard deviations of the population are not known. \r\n",
    "\r\n",
    "Situations to use a T-Test:\r\n",
    "- Data is independent\r\n",
    "- Approximately normally distributed data\r\n",
    "- Similar amount of variance within the groups being compared (homogenous)"
   ],
   "metadata": {}
  },
  {
   "cell_type": "markdown",
   "source": [
    "## One-Sample T-Test\r\n",
    "\r\n",
    "The mass of a sample of n=20 are m = 8.8, 6.6, 9.5, 11.2, 10.2, 7.4, 8.0, 9.6, 9.9, 9.0, 7.6, 7.4, 10.4, 11.1, 8.5, 10.0, 11.6, 10.7, 10.3, and 7.0 gm.\r\n",
    "\r\n",
    "We need to check if there is any difference between the average mass of this sample and the average mass of all acorns (oak tree nuts) of μ = 10.0 gm.\r\n",
    "\r\n",
    "Null Hypothesis: x̄ – μ = 0, that is there is no significant difference.\r\n",
    "\r\n",
    "Alternate Hypothesis: x̄ – μ ≠ 0 (two-sided test)\r\n",
    "\r\n",
    "t-critical for specified alpha level: t*= 2.093"
   ],
   "metadata": {}
  },
  {
   "cell_type": "code",
   "execution_count": 1,
   "source": [
    "import numpy as np\r\n",
    "import pandas as pd\r\n",
    "import matplotlib.pyplot as plt\r\n",
    "import seaborn as sns\r\n",
    "import scipy.stats as stats # some useful stuff\r\n",
    "\r\n",
    "x = [8.8, 6.6, 9.5, 11.2, 10.2, 7.4, 8.0, 9.6, 9.9, 9.0,\r\n",
    "     7.6, 7.4, 10.4, 11.1, 8.5, 10.0, 11.6, 10.7, 10.3, 7.0]\r\n",
    "mu = 10 # Population mean\r\n",
    "t_critical = 2.093\r\n",
    "x_bar = np.array(x).mean() # Sample mean\r\n",
    "s = np.array(x).std(ddof=1) # subtract 1 from N to get unbiased estimate of sample standard deviation\r\n",
    "N = len(x) # Sample size\r\n",
    "SE = s/np.sqrt(N) # Standard Error (S.E)\r\n",
    "t = (x_bar - mu)/SE\r\n",
    "print(\"t-statistic: \",t)\r\n",
    "# A one sample t-test that gives you the p-value too can be done with scipy as follows:\r\n",
    "t, p = stats.ttest_1samp(x, mu)\r\n",
    "print(\"t = \", t, \", p = \", p)\r\n",
    "if p < 0.05:\r\n",
    "    print(\"reject null hypothesis\")\r\n",
    "else:\r\n",
    "    print(\"accept null hypothesis\")"
   ],
   "outputs": [
    {
     "output_type": "stream",
     "name": "stdout",
     "text": [
      "t-statistic:  -2.2491611580763977\n",
      "t =  -2.2491611580763973 , p =  0.03655562279112415\n",
      "reject null hypothesis\n"
     ]
    }
   ],
   "metadata": {}
  },
  {
   "cell_type": "markdown",
   "source": [
    "## Two-Sample T-Test\r\n",
    "\r\n",
    "The mass of N1 = 20 acorns and N2 = 30 acorns from oak trees downwind from the same coal power plant is measured. \r\n",
    "\r\n",
    "Null Hypothesis: x̄1 = x̄2, or x̄2 – x̄1 = 0, that is, there is no difference between the sample means\r\n",
    "\r\n",
    "Alternate Hypothesis: x̄2 < x̄1, or x̄2 – x̄1 < 0 there is a difference between the sample means\r\n",
    "\r\n",
    "### Assumptions of this parametric test:\r\n",
    "\r\n",
    "Now, besides that the dependent variables are interval/ratio, and are continuous, there are three assumptions that need to be met.\r\n",
    "\r\n",
    "Assumption 1: Are the two samples independent?\r\n",
    "\r\n",
    "Assumption 2: Are the data from each of the 2 groups following a normal distribution?\r\n",
    "\r\n",
    "Assumption 3: Do the two samples have the same variances (Homogeneity of Variance)?"
   ],
   "metadata": {}
  },
  {
   "cell_type": "code",
   "execution_count": 2,
   "source": [
    "# sample up wind\r\n",
    "x1 = [10.8, 10.0, 8.2, 9.9, 11.6, 10.1, 11.3, 10.3, 10.7, 9.7, \r\n",
    "      7.8, 9.6, 9.7, 11.6, 10.3, 9.8, 12.3, 11.0, 10.4, 10.4]\r\n",
    "# sample down wind\r\n",
    "x2 = [7.8, 7.5, 9.5, 11.7, 8.1, 8.8, 8.8, 7.7, 9.7, 7.0, \r\n",
    "      9.0, 9.7, 11.3, 8.7, 8.8, 10.9, 10.3, 9.6, 8.4, 6.6,\r\n",
    "      7.2, 7.6, 11.5, 6.6, 8.6, 10.5, 8.4, 8.5, 10.2, 9.2]\r\n",
    "# equal sample size and assume equal population variance\r\n",
    "t_critical = 1.677\r\n",
    "X1 = len(x1)\r\n",
    "X2 = len(x2)\r\n",
    "t1 = X1-1 # n-1 (Bessel's correction) - degrees of freedom for Sample1\r\n",
    "t2 = X2-1 # degrees of freedom for Sample2\r\n",
    "df = t1+t2 # total degrees of freedom\r\n",
    "s1 = np.std(x1,ddof=1) # Sample1 standard deviation\r\n",
    "s2 = np.std(x2,ddof=1) # Sample2 standard deviation\r\n",
    "x1_bar = np.mean(x1) # Sample1 mean\r\n",
    "x2_bar = np.mean(x2) # Sample2 mean\r\n",
    "sp = np.sqrt((t1*s1**2 + t2*s2**2)/df)  \r\n",
    "se = sp*np.sqrt(1/X1 + 1/X2)\r\n",
    "t = (x2_bar - x1_bar)/(se) # t-statistic\r\n",
    "print(\"t-statistic\", t)\r\n",
    "# a two-sample independent t-test is done with scipy as follows\r\n",
    "# NOTE: the p-value given is two-sided so the one-sided p value would be p/2\r\n",
    "t, p_twosided = stats.ttest_ind(x2, x1, equal_var=True)\r\n",
    "print(\"t = \",t, \", p_twosided = \", p_twosided, \", p_onesided =\", p_twosided/2)"
   ],
   "outputs": [
    {
     "output_type": "stream",
     "name": "stdout",
     "text": [
      "t-statistic -3.5981947686898033\n",
      "t =  -3.5981947686898033 , p_twosided =  0.0007560337478801464 , p_onesided = 0.0003780168739400732\n"
     ]
    }
   ],
   "metadata": {}
  },
  {
   "cell_type": "markdown",
   "source": [
    "## Example-2"
   ],
   "metadata": {}
  },
  {
   "cell_type": "code",
   "execution_count": 2,
   "source": [
    "import pandas as pd\r\n",
    "\r\n",
    "data = 'https://gist.githubusercontent.com/baskaufs/1a7a995c1b25d6e88b45/raw/4bb17ccc5c1e62c27627833a4f25380f27d30b35/t-test.csv'\r\n",
    "df = pd.read_csv(data)\r\n",
    "\r\n",
    "df.head()"
   ],
   "outputs": [
    {
     "output_type": "execute_result",
     "data": {
      "text/html": [
       "<div>\n",
       "<style scoped>\n",
       "    .dataframe tbody tr th:only-of-type {\n",
       "        vertical-align: middle;\n",
       "    }\n",
       "\n",
       "    .dataframe tbody tr th {\n",
       "        vertical-align: top;\n",
       "    }\n",
       "\n",
       "    .dataframe thead th {\n",
       "        text-align: right;\n",
       "    }\n",
       "</style>\n",
       "<table border=\"1\" class=\"dataframe\">\n",
       "  <thead>\n",
       "    <tr style=\"text-align: right;\">\n",
       "      <th></th>\n",
       "      <th>grouping</th>\n",
       "      <th>height</th>\n",
       "    </tr>\n",
       "  </thead>\n",
       "  <tbody>\n",
       "    <tr>\n",
       "      <th>0</th>\n",
       "      <td>men</td>\n",
       "      <td>181.5</td>\n",
       "    </tr>\n",
       "    <tr>\n",
       "      <th>1</th>\n",
       "      <td>men</td>\n",
       "      <td>187.3</td>\n",
       "    </tr>\n",
       "    <tr>\n",
       "      <th>2</th>\n",
       "      <td>men</td>\n",
       "      <td>175.3</td>\n",
       "    </tr>\n",
       "    <tr>\n",
       "      <th>3</th>\n",
       "      <td>men</td>\n",
       "      <td>178.3</td>\n",
       "    </tr>\n",
       "    <tr>\n",
       "      <th>4</th>\n",
       "      <td>men</td>\n",
       "      <td>169.0</td>\n",
       "    </tr>\n",
       "  </tbody>\n",
       "</table>\n",
       "</div>"
      ],
      "text/plain": [
       "  grouping  height\n",
       "0      men   181.5\n",
       "1      men   187.3\n",
       "2      men   175.3\n",
       "3      men   178.3\n",
       "4      men   169.0"
      ]
     },
     "metadata": {},
     "execution_count": 2
    }
   ],
   "metadata": {}
  },
  {
   "cell_type": "markdown",
   "source": [
    "Ho : s1_mean = s2_mean\r\n",
    "\r\n",
    "Ha : s1_mean > s2_mean"
   ],
   "metadata": {}
  },
  {
   "cell_type": "code",
   "execution_count": 3,
   "source": [
    "## Subset data\r\n",
    "male = df.query('grouping == \"men\"')['height']\r\n",
    "female = df.query('grouping == \"women\"')['height']"
   ],
   "outputs": [],
   "metadata": {}
  },
  {
   "cell_type": "code",
   "execution_count": 5,
   "source": [
    "## Stats (Descriptive)\r\n",
    "df.groupby('grouping').describe()"
   ],
   "outputs": [
    {
     "output_type": "execute_result",
     "data": {
      "text/html": [
       "<div>\n",
       "<style scoped>\n",
       "    .dataframe tbody tr th:only-of-type {\n",
       "        vertical-align: middle;\n",
       "    }\n",
       "\n",
       "    .dataframe tbody tr th {\n",
       "        vertical-align: top;\n",
       "    }\n",
       "\n",
       "    .dataframe thead tr th {\n",
       "        text-align: left;\n",
       "    }\n",
       "\n",
       "    .dataframe thead tr:last-of-type th {\n",
       "        text-align: right;\n",
       "    }\n",
       "</style>\n",
       "<table border=\"1\" class=\"dataframe\">\n",
       "  <thead>\n",
       "    <tr>\n",
       "      <th></th>\n",
       "      <th colspan=\"8\" halign=\"left\">height</th>\n",
       "    </tr>\n",
       "    <tr>\n",
       "      <th></th>\n",
       "      <th>count</th>\n",
       "      <th>mean</th>\n",
       "      <th>std</th>\n",
       "      <th>min</th>\n",
       "      <th>25%</th>\n",
       "      <th>50%</th>\n",
       "      <th>75%</th>\n",
       "      <th>max</th>\n",
       "    </tr>\n",
       "    <tr>\n",
       "      <th>grouping</th>\n",
       "      <th></th>\n",
       "      <th></th>\n",
       "      <th></th>\n",
       "      <th></th>\n",
       "      <th></th>\n",
       "      <th></th>\n",
       "      <th></th>\n",
       "      <th></th>\n",
       "    </tr>\n",
       "  </thead>\n",
       "  <tbody>\n",
       "    <tr>\n",
       "      <th>men</th>\n",
       "      <td>7.0</td>\n",
       "      <td>179.871429</td>\n",
       "      <td>6.216836</td>\n",
       "      <td>169.0</td>\n",
       "      <td>176.80</td>\n",
       "      <td>181.5</td>\n",
       "      <td>183.85</td>\n",
       "      <td>187.3</td>\n",
       "    </tr>\n",
       "    <tr>\n",
       "      <th>women</th>\n",
       "      <td>7.0</td>\n",
       "      <td>171.057143</td>\n",
       "      <td>5.697619</td>\n",
       "      <td>165.2</td>\n",
       "      <td>166.65</td>\n",
       "      <td>170.3</td>\n",
       "      <td>173.75</td>\n",
       "      <td>181.1</td>\n",
       "    </tr>\n",
       "  </tbody>\n",
       "</table>\n",
       "</div>"
      ],
      "text/plain": [
       "         height                                                           \n",
       "          count        mean       std    min     25%    50%     75%    max\n",
       "grouping                                                                  \n",
       "men         7.0  179.871429  6.216836  169.0  176.80  181.5  183.85  187.3\n",
       "women       7.0  171.057143  5.697619  165.2  166.65  170.3  173.75  181.1"
      ]
     },
     "metadata": {},
     "execution_count": 5
    }
   ],
   "metadata": {}
  },
  {
   "cell_type": "code",
   "execution_count": 6,
   "source": [
    "## Checking the Normality of Data (Shapiro-Wilks test is one of the tests for normality)\r\n",
    "print(stats.shapiro(male))\r\n",
    "\r\n",
    "print(stats.shapiro(female))"
   ],
   "outputs": [
    {
     "output_type": "stream",
     "name": "stdout",
     "text": [
      "ShapiroResult(statistic=0.9550848603248596, pvalue=0.7756242156028748)\n",
      "ShapiroResult(statistic=0.9197608828544617, pvalue=0.467536598443985)\n"
     ]
    }
   ],
   "metadata": {}
  },
  {
   "cell_type": "markdown",
   "source": [
    "we performed the Shapiro-Wliks test on both Pandas series (i.e., for each group seperately). Consequently, we get a tuple, for each time we use the shapiro method. This tuple contains the test statistics and the p-value. Here, the null hypothesis is that the data follows a normal distribution. Thus, we can infer that the data from both groups is normally distributed."
   ],
   "metadata": {}
  },
  {
   "cell_type": "code",
   "execution_count": 7,
   "source": [
    "## Checking the Homogeneity of Variances Assumption (Levene's test)\r\n",
    "\r\n",
    "stats.levene(male, female)"
   ],
   "outputs": [
    {
     "output_type": "execute_result",
     "data": {
      "text/plain": [
       "LeveneResult(statistic=0.026695150465104206, pvalue=0.8729335280501348)"
      ]
     },
     "metadata": {},
     "execution_count": 7
    }
   ],
   "metadata": {}
  },
  {
   "cell_type": "code",
   "execution_count": 8,
   "source": [
    "## 2 sample t-test\r\n",
    "res = stats.ttest_ind(male, female, \r\n",
    "                      equal_var=True)\r\n",
    "\r\n",
    "display(res)"
   ],
   "outputs": [
    {
     "output_type": "display_data",
     "data": {
      "text/plain": [
       "Ttest_indResult(statistic=2.765444762721087, pvalue=0.017105701528166175)"
      ]
     },
     "metadata": {}
    }
   ],
   "metadata": {}
  },
  {
   "cell_type": "code",
   "execution_count": 9,
   "source": [
    "import pingouin as pg\r\n",
    "\r\n",
    "res = pg.ttest(male, female, correction=False) # here we set the correction to False as we want to carry out Student’s t-test. If the data were violating the homogeneity assumption, we should set the correction to True.\r\n",
    "display(res)"
   ],
   "outputs": [
    {
     "output_type": "display_data",
     "data": {
      "text/html": [
       "<div>\n",
       "<style scoped>\n",
       "    .dataframe tbody tr th:only-of-type {\n",
       "        vertical-align: middle;\n",
       "    }\n",
       "\n",
       "    .dataframe tbody tr th {\n",
       "        vertical-align: top;\n",
       "    }\n",
       "\n",
       "    .dataframe thead th {\n",
       "        text-align: right;\n",
       "    }\n",
       "</style>\n",
       "<table border=\"1\" class=\"dataframe\">\n",
       "  <thead>\n",
       "    <tr style=\"text-align: right;\">\n",
       "      <th></th>\n",
       "      <th>T</th>\n",
       "      <th>dof</th>\n",
       "      <th>alternative</th>\n",
       "      <th>p-val</th>\n",
       "      <th>CI95%</th>\n",
       "      <th>cohen-d</th>\n",
       "      <th>BF10</th>\n",
       "      <th>power</th>\n",
       "    </tr>\n",
       "  </thead>\n",
       "  <tbody>\n",
       "    <tr>\n",
       "      <th>T-test</th>\n",
       "      <td>2.765445</td>\n",
       "      <td>12</td>\n",
       "      <td>two-sided</td>\n",
       "      <td>0.017106</td>\n",
       "      <td>[1.87, 15.76]</td>\n",
       "      <td>1.478192</td>\n",
       "      <td>3.601</td>\n",
       "      <td>0.718909</td>\n",
       "    </tr>\n",
       "  </tbody>\n",
       "</table>\n",
       "</div>"
      ],
      "text/plain": [
       "               T  dof alternative     p-val          CI95%   cohen-d   BF10  \\\n",
       "T-test  2.765445   12   two-sided  0.017106  [1.87, 15.76]  1.478192  3.601   \n",
       "\n",
       "           power  \n",
       "T-test  0.718909  "
      ]
     },
     "metadata": {}
    }
   ],
   "metadata": {}
  },
  {
   "cell_type": "markdown",
   "source": [
    "## Paired T-Test\r\n",
    "\r\n",
    "The paired sample t-test is also called a dependent sample t-test. Let’s take an example from a blood pressure dataset. We need to check the sample means of blood pressure of an individual before and after treatment.\r\n",
    "\r\n",
    "H0: The mean difference between the two samples is 0\r\n",
    "\r\n",
    "H1: The mean difference between the two samples is not 0"
   ],
   "metadata": {}
  },
  {
   "cell_type": "code",
   "execution_count": 10,
   "source": [
    "import pandas as pd\r\n",
    "from scipy import stats\r\n",
    "df = pd.read_csv(\"ztest_data.csv\")\r\n",
    "df[['bp_before','bp_after']].describe()\r\n",
    "ttest,pval = stats.ttest_rel(df['bp_before'], df['bp_after'])\r\n",
    "print(pval)\r\n",
    "if pval < 0.05:\r\n",
    "    print(\"reject null hypothesis\")\r\n",
    "else:\r\n",
    "    print(\"accept null hypothesis\")"
   ],
   "outputs": [
    {
     "output_type": "stream",
     "name": "stdout",
     "text": [
      "0.0011297914644840823\n",
      "reject null hypothesis\n"
     ]
    }
   ],
   "metadata": {}
  }
 ],
 "metadata": {
  "orig_nbformat": 4,
  "language_info": {
   "name": "python",
   "version": "3.9.5",
   "mimetype": "text/x-python",
   "codemirror_mode": {
    "name": "ipython",
    "version": 3
   },
   "pygments_lexer": "ipython3",
   "nbconvert_exporter": "python",
   "file_extension": ".py"
  },
  "kernelspec": {
   "name": "python3",
   "display_name": "Python 3.9.5 64-bit ('kamenv': conda)"
  },
  "interpreter": {
   "hash": "06ef7c72ea0fbf6aadbb96241f80366349443c1d206a5cee1b7aaf947634740b"
  }
 },
 "nbformat": 4,
 "nbformat_minor": 2
}